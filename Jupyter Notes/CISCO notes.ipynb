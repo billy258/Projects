{
 "cells": [
  {
   "cell_type": "markdown",
   "metadata": {},
   "source": [
    "# CISCO course notes \n",
    "\n",
    "This notebook will consist of new information learned on the course.\n",
    "\n",
    "> **Positional arguments** - entering arguments means the argument will be outputted the same order they were inputted.\n",
    "\n",
    "> **Keyword agruments** - the meaning of the argument is not taken from its location but from its (position) but from the special word (keyword) used to identify them. \n",
    " \n",
    "- A keyword argument consits of three elements: a **keyword** identifying the argument (eg. `end`);an **equal sign** (`=`); and a **value** assigned to that argument.\n",
    "- Any keyword argument have to be put after the last postional argument.\n",
    "\n",
    "The `end=` keyword argument for the `print()` function determines the characters the `print()` function sends to the output once it reaches the end of its positional arguments.\n",
    "The default behaviour of this situation is for the `end=` is for the function to send `end=\\n`. thus creating a new line.\n",
    "\n",
    "Setting `end=''` to nothing means the `print()` function wont send the `\\n` characters when it has finshed printing the postional arguments. Thus they print on the same line."
   ]
  },
  {
   "cell_type": "code",
   "execution_count": 2,
   "metadata": {},
   "outputs": [
    {
     "name": "stdout",
     "output_type": "stream",
     "text": [
      "first second third\n"
     ]
    }
   ],
   "source": [
    "print('first','second',end=' ')\n",
    "print('third')"
   ]
  },
  {
   "cell_type": "code",
   "execution_count": 4,
   "metadata": {},
   "outputs": [
    {
     "name": "stdout",
     "output_type": "stream",
     "text": [
      "first second\n",
      "third\n"
     ]
    }
   ],
   "source": [
    "print('first','second')\n",
    "print('third')"
   ]
  },
  {
   "cell_type": "markdown",
   "metadata": {},
   "source": [
    "Another keyword argument for the `print()` function is `sep=`. This keyword separates each argument with the value of the keyword."
   ]
  },
  {
   "cell_type": "code",
   "execution_count": 8,
   "metadata": {},
   "outputs": [
    {
     "name": "stdout",
     "output_type": "stream",
     "text": [
      "first-second\n",
      "firstsecond\n",
      "first second\n"
     ]
    }
   ],
   "source": [
    "print('first','second',sep='-')\n",
    "print('first','second',sep='')\n",
    "print('first','second')"
   ]
  },
  {
   "cell_type": "markdown",
   "metadata": {},
   "source": [
    "___\n",
    "## Literals \n",
    "\n",
    "Literal data whose values are determined by the literal self. eg, numbers. While letters don't have value unless they are assigned them. Examples of literal data will be, integars, stings and floats.\n",
    "\n",
    "Underscores (`_`) can be used to write large number. eg, 11000==11_000.\n",
    "\n",
    "#### OCTAL numerical system\n",
    "\n",
    "- The octal numerical system (oct for short) is the base-8 number system, and uses the digits 0 to 7. (this essentially a different numerical system to the decimal/base-10).\n",
    "\n",
    "- Octals can be made from binary numericals by grouping consecutive binary digits into groups of three (starting from the right).\n",
    "\n",
    "eg. the binary representation for decimal 74 is 1001010. Two zeros can be added at the left: (00)1 001 010, corresponding the octal digits 112 yielding the octal representation 112.\n",
    "\n",
    "In the decimal system each decimal place is a power of ten:\n",
    "$$ 74_{10}=7*10^{1}+4*10^{0} $$\n",
    "\n",
    "In the octal syetem each place is a power of eight:\n",
    "$$ 112_{8}=1*8^{2}+1*8^{1}+2*8^{0} $$\n",
    "\n",
    "If an integar number is preceded by an `0o` or `0O` prefix (zero-o), it will be treated as an octal value. This means that the number must contain digits taken from the 0-7 range only. EG, `0o123` is an octal number with a (decimal) value equal to `83`\n",
    "\n",
    "#### HEXADECIMAL numbers\n",
    "\n",
    "- Hexadecimals (hex for short) is a positional system that represents numbers using base of 16. \n",
    "- This system uses 16 distinct symbols eg, 0-9 (for zero to nine) and a-f/A-F (for numbers 10-15). \n",
    "- Hex numerials are widely used by computer systems as they provide a human-friendly representation of binary coded values. Each hexadecimal digit represents four binary digits (also known as a **nibble**) which is half a byte. for example, a single byte can have the binary digits ranging from 00000000 to 11111111, which can be conviently represented as 00 to FF in hexadecimal.\n",
    "- Hex is used in **plaintext transfer encoding**, where each byte of the plaintext is broken into two 4-bit values and represented by two hex digits.\n",
    "\n",
    "To use hex numbers, the numbers should be prefixed `0x` of `0X` (zero-x). EG, `0x123` is a hexadecimal number with a (decimal) value equal to `291`."
   ]
  },
  {
   "cell_type": "code",
   "execution_count": 12,
   "metadata": {},
   "outputs": [
    {
     "name": "stdout",
     "output_type": "stream",
     "text": [
      "83\n",
      "291\n"
     ]
    }
   ],
   "source": [
    "print(0o123)\n",
    "print(0x123)"
   ]
  },
  {
   "cell_type": "markdown",
   "metadata": {},
   "source": [
    "E/e can also stands for **exponant**.\n",
    "\n",
    "To avoid writing many zeros, you could say 300,000,000.0 is the same as $ 3*10^8 $. This is the same as `3e8`.\n",
    "\n",
    "- the exponent (the value after E) has to be an integar.\n",
    "- the base (the value in front of the E) may be an integar."
   ]
  },
  {
   "cell_type": "code",
   "execution_count": 15,
   "metadata": {},
   "outputs": [
    {
     "name": "stdout",
     "output_type": "stream",
     "text": [
      "300000000.0\n"
     ]
    }
   ],
   "source": [
    "print(3e8)"
   ]
  },
  {
   "cell_type": "markdown",
   "metadata": {},
   "source": [
    "If `0.00000000000000000000000000001` was being used as a float literal. Python would display the most econiomical form of the numbers presentation."
   ]
  },
  {
   "cell_type": "code",
   "execution_count": 17,
   "metadata": {},
   "outputs": [
    {
     "name": "stdout",
     "output_type": "stream",
     "text": [
      "1e-29\n"
     ]
    }
   ],
   "source": [
    "print(0.00000000000000000000000000001)"
   ]
  },
  {
   "cell_type": "markdown",
   "metadata": {},
   "source": [
    "___\n",
    "## Strings \n",
    "\n",
    "The `\\` key is known as a escape character. Some of the characters preceeding the `\\` have special meanings like `\\n` means newline.\n",
    "\n",
    "Stings can be formed using both quotation marks `''/\"\"`. If you need to embedd on or the other in a sting then both should be used to form the string. "
   ]
  },
  {
   "cell_type": "code",
   "execution_count": 25,
   "metadata": {},
   "outputs": [
    {
     "name": "stdout",
     "output_type": "stream",
     "text": [
      "\"I'm\"\n",
      "\"\"learning\"\"\n",
      "\"\"\"Python\"\"\"\n"
     ]
    }
   ],
   "source": [
    "print('\"I\\'m\"','\"\"learning\"\"','\"\"\"Python\"\"\"',sep='\\n')"
   ]
  },
  {
   "cell_type": "markdown",
   "metadata": {},
   "source": [
    "___\n",
    "## Arithmetic operators \n",
    "\n",
    "> An __expression__ is a combonation of values (or variables, operators, calls to functions) which evaluate to a value. eg, `1+2`.\n",
    "\n",
    "> An __operator__ is an special symbol or keyword which are able to operate on the values and perform (mathematical) operations.\n",
    "\n",
    "> A __unary__ operator is an operator with only one operand eg, `-1` or `+3`.\n",
    "\n",
    "> A __binary__ operator is an operator with two operands eg, `4+5` or `12%5`.\n",
    "\n",
    "\n",
    "`**` is a sign for exponentiation (power). The left is the base and its right is the exponent. \n",
    "  - If both arguments and integers, then the result will be an integer. \n",
    "  - If just one of the arguments is a floating point, the result will be a floating point.\n"
   ]
  },
  {
   "cell_type": "code",
   "execution_count": 26,
   "metadata": {},
   "outputs": [
    {
     "name": "stdout",
     "output_type": "stream",
     "text": [
      "1296\n",
      "1296.0\n"
     ]
    }
   ],
   "source": [
    "print(6**4)\n",
    "print(6.**4)"
   ]
  },
  {
   "cell_type": "markdown",
   "metadata": {},
   "source": [
    "`//` is an integar divisional operator. It differs from standard division in two ways.\n",
    "  - The result lacks the fractional part. - it's absent (for integars), or is always equal to zero (for floats); this means that the results are always rounded.\n",
    "  - integer by integer divion gives an integer result, anything else gives an float result.\n",
    "  - The result of integer division is always rounded to the nearest integer value that is less than the real (not rounded) result. **ROUNDING ALWAYS GOES TO THE LESSER INTEGER**.\n",
    "  - This rule counts for negative values aswell.\n",
    "  - This is also knwon as floor disvision."
   ]
  },
  {
   "cell_type": "code",
   "execution_count": 28,
   "metadata": {},
   "outputs": [
    {
     "name": "stdout",
     "output_type": "stream",
     "text": [
      "1\n",
      "1.0\n",
      "-2.0\n"
     ]
    }
   ],
   "source": [
    "print(6//4)\n",
    "print(6//4.)\n",
    "print(-6//4.)"
   ]
  },
  {
   "cell_type": "markdown",
   "metadata": {},
   "source": [
    "`%` sign means \"modulo\" or \"remainder\"\n",
    "\n",
    "- The result is a remainder left after the integer division.\n",
    "\n",
    "EG. \n",
    "\n",
    "- `13 // 3 = 4`\n",
    "- `4 * 3 = 12`\n",
    "- `13 - 12 = 1` - 1 is the remainder (answer)\n",
    "\n",
    "Tip - Don't divide by zero..."
   ]
  },
  {
   "cell_type": "code",
   "execution_count": 30,
   "metadata": {},
   "outputs": [
    {
     "name": "stdout",
     "output_type": "stream",
     "text": [
      "1\n"
     ]
    }
   ],
   "source": [
    "print(13%3)"
   ]
  },
  {
   "cell_type": "markdown",
   "metadata": {},
   "source": [
    "The **hieracy of priorities** means multiplications precede additions etc..c\n",
    "\n",
    "Long equations are computed left to right because of the operator has **left-sided binding**. Other than exponation which has **right-side binding**.\n",
    "\n",
    "- __Unary__ `+` and `-` have the highest priority. Then: `**`, then: `*`,`/` and `%`, and then the lowest priority: __binary__ `+` and `-`.\n"
   ]
  },
  {
   "cell_type": "code",
   "execution_count": 33,
   "metadata": {},
   "outputs": [
    {
     "name": "stdout",
     "output_type": "stream",
     "text": [
      "1\n"
     ]
    }
   ],
   "source": [
    "print(2*3%5)"
   ]
  },
  {
   "cell_type": "code",
   "execution_count": 3,
   "metadata": {},
   "outputs": [
    {
     "name": "stdout",
     "output_type": "stream",
     "text": [
      "Starting time (hours): 12\n",
      "Starting time (minutes): 17\n",
      "Event duration (minutes): 59\n",
      "13:16\n"
     ]
    }
   ],
   "source": [
    "#This tells you what time you finish when you enter how long something is in minites\n",
    "\n",
    "hour = int(input(\"Starting time (hours): \"))\n",
    "mins = int(input(\"Starting time (minutes): \"))\n",
    "dura = int(input(\"Event duration (minutes): \"))\n",
    "\n",
    "total=mins+dura\n",
    "\n",
    "dhour=total//60\n",
    "dmins=total%60\n",
    "nhour=(hour+dhour)%24\n",
    "print(nhour,dmins,sep=':')"
   ]
  },
  {
   "cell_type": "markdown",
   "metadata": {},
   "source": [
    "All values being returned from an `input()` function are classed as `stings`.\n",
    "___\n",
    "\n",
    "### Bitwise Operators \n",
    "\n",
    "> __bitwise operators__ are operators that allow you to __manipulate single bits of data__. There are 4 different types.\n",
    "\n",
    "- `&` (ampersand) - bitwise conjuction\n",
    "- `|` (bar) - bitwise disjunction \n",
    "- `~` (tilde) - bitwise negation \n",
    "- `^` (caret) - bitwise exclusive or (xor)\n",
    "\n",
    "`&` requires exactly two `1`'s to provide `1` as the result.\n",
    "`|` requires at least one `1` to provide `1` as the result.\n",
    "`^` requires exactly one `1` to provide `1` as the result.\n",
    "\n",
    "- The arguments of these operators __must be integers__, not floats.\n",
    "- The difference between bitwise and logical operators (and, or, True, False) is that logical operators do not penertrate into the bit level of its argument. They are only intrested in the final integer.\n",
    "- Bitwise operators are stricter: they deal with every bit separately. If we assume that the integer variable occupies 64 bits (which is common in modern computer systems), you can imagine the bitwise operation as a 64-fold evaluation of the logical operator for each pair of bits of the arguments. this analogy is obviously imperfect, as in the real world all these 64 operations are performed at the same time (simultaneously).\n",
    "\n",
    "If we store integars with 32-bits, the bitwise image would look like this.\n",
    "\n",
    "i = 15\n",
    "j = 22\n",
    "\n",
    "{i = 00000000000000000000000000001**11**1\n",
    "j = 00000000000000000000000000010**11**0 }\n",
    "\n",
    "the assignment is given:\n",
    "\n",
    "bit = i & j (so both the bitwise numbers need to have 1's in the same location to produce a one the output)\n",
    "\n",
    "bit = i & j { 00000000000000000000000000000**11**0 }\n",
    "\n",
    "These bits correspond to the integar 6.\n",
    "\n",
    "\n"
   ]
  },
  {
   "cell_type": "code",
   "execution_count": 2,
   "metadata": {},
   "outputs": [
    {
     "name": "stdout",
     "output_type": "stream",
     "text": [
      "6\n"
     ]
    }
   ],
   "source": [
    "i=15\n",
    "j=22\n",
    "\n",
    "bit=i&j\n",
    "\n",
    "print(bit)"
   ]
  },
  {
   "cell_type": "markdown",
   "metadata": {},
   "source": [
    "___\n",
    "### Parametized Functions\n",
    "\n",
    "- Parameters exist only inside functions in which they have been defined.\n",
    "- Assigning a value to the parameter is done at the time of the function's invocation, by specifying the corresponding argument. \n",
    "  - __Parameters__ live inside the functions.\n",
    "  - __Arguments__ exist outside functions, and are carriers of values passed to corresponding parameters. \n",
    "\n",
    "If the parameters name is called with an `=value`, then the postion of the parameter in the `def` statement will not matter."
   ]
  },
  {
   "cell_type": "code",
   "execution_count": 5,
   "metadata": {},
   "outputs": [
    {
     "name": "stdout",
     "output_type": "stream",
     "text": [
      "Hello, my name is James Bond\n",
      "Hello, my name is Luke Skywalker\n"
     ]
    }
   ],
   "source": [
    "def introduction(firstName, lastName):\n",
    "    print(\"Hello, my name is\", firstName, lastName)\n",
    "\n",
    "introduction(firstName = \"James\", lastName = \"Bond\")\n",
    "introduction(lastName = \"Skywalker\", firstName = \"Luke\")"
   ]
  },
  {
   "cell_type": "markdown",
   "metadata": {},
   "source": [
    "- postional arguments must be stated before any keyword arguments and keyword arguments cannot repeat any postional arguments stated.\n",
    "- Keyword arguents can still be used a postional arguments aswell if a value is assigned to that postion.\n",
    "\n",
    "- variables set inside a function will not update the varibales outside the function."
   ]
  },
  {
   "cell_type": "code",
   "execution_count": 7,
   "metadata": {},
   "outputs": [
    {
     "name": "stdout",
     "output_type": "stream",
     "text": [
      "Do I know that variable? 2\n",
      "1\n"
     ]
    }
   ],
   "source": [
    "def myFunction():\n",
    "    var=2\n",
    "    print(\"Do I know that variable?\", var)\n",
    "\n",
    "var = 1\n",
    "myFunction()\n",
    "print(var)"
   ]
  },
  {
   "cell_type": "markdown",
   "metadata": {},
   "source": [
    "- The python method `global` is used to extend a variable's scope in a way which includes the functions bodies (this includes just reading the variables and modifying them).\n"
   ]
  },
  {
   "cell_type": "code",
   "execution_count": 9,
   "metadata": {},
   "outputs": [
    {
     "name": "stdout",
     "output_type": "stream",
     "text": [
      "Do I know that variable? 2\n",
      "2\n"
     ]
    }
   ],
   "source": [
    "def myFunction():\n",
    "    global var\n",
    "    var = 2\n",
    "    print(\"Do I know that variable?\", var)\n",
    "\n",
    "var = 1\n",
    "myFunction()\n",
    "print(var)"
   ]
  },
  {
   "cell_type": "markdown",
   "metadata": {},
   "source": [
    "This affects lists in certain ways:\n",
    "- if the argument is a list then changing the value of the corresponding parameter doesn't affect the list.\n",
    "- if you change a list identified by the parameter (note: the list, not the parameter), the list will reflect the change. \n"
   ]
  },
  {
   "cell_type": "code",
   "execution_count": 11,
   "metadata": {},
   "outputs": [
    {
     "name": "stdout",
     "output_type": "stream",
     "text": [
      "I got [1, 2]\n",
      "[2]\n"
     ]
    }
   ],
   "source": [
    "def myFunction(n):\n",
    "    print(\"I got\", n)\n",
    "    del n[0]\n",
    "var = [1,2]\n",
    "myFunction(var)\n",
    "print(var)"
   ]
  },
  {
   "cell_type": "markdown",
   "metadata": {},
   "source": [
    "- The `\\` can be used to tell python to continue the line of code on the next line"
   ]
  },
  {
   "cell_type": "code",
   "execution_count": 14,
   "metadata": {},
   "outputs": [
    {
     "name": "stdout",
     "output_type": "stream",
     "text": [
      "27.565214082533313\n"
     ]
    }
   ],
   "source": [
    "def ftintom(ft, inch = 0.0):\n",
    "    return ft * 0.3048 + inch * 0.0254\n",
    "\n",
    "\n",
    "def lbstokg(lb):\n",
    "    return lb * 0.45359237\n",
    "\n",
    "\n",
    "def bmi(weight, height):\n",
    "    if height < 1.0 or height > 2.5 or \\\n",
    "    weight < 20 or weight > 200:\n",
    "        return None\n",
    "    \n",
    "    return weight / height ** 2\n",
    "\n",
    "\n",
    "print(bmi(weight = lbstokg(176), height = ftintom(5, 7)))"
   ]
  },
  {
   "cell_type": "markdown",
   "metadata": {},
   "source": [
    "___\n",
    "### Importing Modules\n",
    "\n",
    "- You can list the modules that need importing by `import math, sys`. or several entities `from math import sin, pi`\n",
    "- You can import all the names from the module by using `from module import *`, this can risk name clashes with the entity since its importing all the names.\n",
    "- __Aliasing__ is used to import a module and call it with a different name. eg, `import module as alias`. This can be used for lists of modules `from module import n as a, m as b, o as c`\n",
    "- The `dir()` command will list every entity in the module. \n",
    "- Some examples of module are; `math` (used for excecuting math expressions), `platform` (used to print what machine and environment the code is being run on),  \n",
    "\n"
   ]
  },
  {
   "cell_type": "code",
   "execution_count": 20,
   "metadata": {},
   "outputs": [
    {
     "name": "stdout",
     "output_type": "stream",
     "text": [
      "['_WIN32_CLIENT_RELEASES', '_WIN32_SERVER_RELEASES', '__builtins__', '__cached__', '__copyright__', '__doc__', '__file__', '__loader__', '__name__', '__package__', '__spec__', '__version__', '_comparable_version', '_component_re', '_default_architecture', '_follow_symlinks', '_ironpython26_sys_version_parser', '_ironpython_sys_version_parser', '_java_getprop', '_libc_search', '_mac_ver_xml', '_node', '_norm_version', '_platform', '_platform_cache', '_pypy_sys_version_parser', '_sys_version', '_sys_version_cache', '_sys_version_parser', '_syscmd_file', '_syscmd_uname', '_syscmd_ver', '_uname_cache', '_ver_output', '_ver_stages', 'architecture', 'collections', 'java_ver', 'libc_ver', 'mac_ver', 'machine', 'node', 'os', 'platform', 'processor', 'python_branch', 'python_build', 'python_compiler', 'python_implementation', 'python_revision', 'python_version', 'python_version_tuple', 're', 'release', 'sys', 'system', 'system_alias', 'uname', 'uname_result', 'version', 'win32_edition', 'win32_is_iot', 'win32_ver']\n",
      "i386\n",
      "('3', '8', '3')\n"
     ]
    }
   ],
   "source": [
    "import platform\n",
    "\n",
    "print(dir(platform))\n",
    "print(platform.processor())\n",
    "print(platform.python_version_tuple())"
   ]
  },
  {
   "cell_type": "markdown",
   "metadata": {},
   "source": [
    "___\n",
    "### Creating Modules \n",
    "\n",
    "> A __module__ is a kind of container filled with functions (as many functions as you need).\n",
    "\n",
    "> Grouping the modules creates a __package__.\n",
    "\n",
    "- When you import another python module (/file) fro mthe same folder, python will make another folder called **__pycache__**.\n",
    "  - The file name inside the file will mostly be \"module.cpython-xy.pyc\" where x and y are the difits derived from your version of python.\n",
    "  - the `.pyc` means python and complied.\n",
    "  - This means python semi-compiles the file (not into machine code) making it run faster.\n",
    "  - Python is able to detect if there are any changes made to the module and will only rebuild the `.pyc` file if there are any changes made to the module. \n",
    "\n",
    "- When a module is imported, its content is __implicitly executed by python__. It gives the module the chance to initialize some of its internal aspects (eg. it may assign some variables wit huseful values). \n",
    "  - The initialization takes place only once, when the first import occurs, so the assignments done by the module aren't repeated unnecessarily.\n",
    "  \n",
    "EG. \n",
    "  - There is a module named `mod1`\n",
    "  - There is a module named `mod2` which contains the `import mod1` and `import mod2` instructions. \n",
    "    - `mod1` isn't imported twice since python can silently omit all subsquent imports. \n",
    "\n",
    "- Python also creates a variable called `__name__`.\n",
    "  - When you run a file directly, its `__name__` variable is set to `__main__`.\n",
    "  - When a file is imported as a module, its `__name__` variable is set to the file's name (excluding the `.py`)\n",
    "  - This can be usful when checking the functions in the module are working as intended. (ie, print statements when you run the module as a file).\n",
    "  \n",
    "- If you want the module user to not change a variable the variable name (by convention) will have a `_` or `__` in front of it.\n",
    "\n",
    "- A line starting with `#!` (called a 'shebang' etc...) is just a comment to python however to a unix or unix-like operating system, such a line instructs the OS how to execute the contents of the file (ie what program needs to be launched to interpret the text).\n",
    "\n",
    "> A __doc-string__ is a string that is placed before any module imstructions (including imports). This should breifly explain the purpose and contents of the module.\n",
    "\n",
    "- Using the `__name__` variable can tell you whether the module is being excuted as a file or as a module....\n"
   ]
  },
  {
   "cell_type": "code",
   "execution_count": 22,
   "metadata": {},
   "outputs": [
    {
     "name": "stdout",
     "output_type": "stream",
     "text": [
      "I prefer to be a module, but I can do some tests for you\n",
      "True\n",
      "True\n"
     ]
    }
   ],
   "source": [
    "#!/usr/bin/env python3 \n",
    "\n",
    "\"\"\" module.py - an example of Python module \"\"\"\n",
    "\n",
    "__counter = 0\n",
    "\n",
    "def suml(list):\n",
    "\tglobal __counter\n",
    "\t__counter += 1\n",
    "\tsum = 0\n",
    "\tfor el in list:\n",
    "\t\tsum += el\n",
    "\treturn sum\n",
    "\n",
    "def prodl(list):\n",
    "\tglobal __counter\t\n",
    "\t__counter += 1\n",
    "\tprod = 1\n",
    "\tfor el in list:\n",
    "\t\tprod *= el\n",
    "\treturn prod\n",
    "\n",
    "if __name__ == \"__main__\":\n",
    "\tprint(\"I prefer to be a module, but I can do some tests for you\")\n",
    "\tl = [i+1 for i in range(5)]\n",
    "\tprint(suml(l) == 15)\n",
    "\tprint(prodl(l) == 120)"
   ]
  },
  {
   "cell_type": "markdown",
   "metadata": {},
   "source": [
    "##### How does python search for modules?\n",
    "\n",
    "- There is a list (or a variable called \"PATH\") that stores all locations (folders/directories) that are searched in order to find a module which has been requested by the import instruction.\n",
    "  - Python browses these folders in the order in which they are listed in the list - if the modules cannot be found in any of these directories, the import fails. \n",
    "  - Otherwise the first matching folder name with the import name is taken. \n",
    "  - PATH elements can be zip files to help with storage. \n",
    "  - You can add elements to the PATH variable using the `sys` module.\n",
    " "
   ]
  },
  {
   "cell_type": "code",
   "execution_count": null,
   "metadata": {},
   "outputs": [],
   "source": [
    "# main.py\n",
    "\n",
    "from sys import path\n",
    "\n",
    "path.append('..\\\\modules')\n",
    "\n",
    "import module\n",
    "\n",
    "zeroes = [0 for i in range(5)]\n",
    "ones = [1 for i in range(5)]\n",
    "print(module.suml(zeroes))\n",
    "print(module.prodl(ones))"
   ]
  },
  {
   "cell_type": "markdown",
   "metadata": {},
   "source": [
    "___\n",
    "### Exceptions\n",
    "\n",
    "- When using the exceptions you can specify what condtion the exception is made in.\n",
    "- It is always good to add the gernal except to thee code so that any cases that dont match the except condition can be handled.\n",
    "\n",
    "The following syntax can be used to make sure that two exceptions are handled in the same way:\n",
    "    `except (exc1, exc2):`\n",
    "\n",
    "- There is a tree of exceptions with some errors being classed in other \"branch\"\n",
    "    \n",
    "- You can \"raise\" the exception with the `raise exc` command. \n",
    "  - This enables you to simulate raising actual exceptions (eg. to test your handling strategy)\n",
    "  - partially handle and exception and make another part of the code responsible for completing the handling (separation of conerns).\n",
    "  - You can test your exception handling routine without changing your code to do silly things.\n",
    "  - If you put a `raise` statement in a except statment will just reraise the current exception currently being handled.\n"
   ]
  },
  {
   "cell_type": "code",
   "execution_count": 26,
   "metadata": {},
   "outputs": [
    {
     "name": "stdin",
     "output_type": "stream",
     "text": [
      "Enter a number:  0\n"
     ]
    },
    {
     "name": "stdout",
     "output_type": "stream",
     "text": [
      "You cannot divide by zero, sorry.\n",
      "THE END.\n"
     ]
    }
   ],
   "source": [
    "try:\n",
    "    x = int(input(\"Enter a number: \"))\n",
    "    y = 1 / x\n",
    "    print(y)\n",
    "except ZeroDivisionError:\n",
    "    print(\"You cannot divide by zero, sorry.\")\n",
    "except ValueError:\n",
    "    print(\"You must enter an integer value.\")\n",
    "except:\n",
    "    print(\"Oh dear, something went wrong...\")\n",
    "\n",
    "print(\"THE END.\")"
   ]
  },
  {
   "cell_type": "code",
   "execution_count": 28,
   "metadata": {},
   "outputs": [
    {
     "name": "stdout",
     "output_type": "stream",
     "text": [
      "I did it again!\n",
      "I see!\n",
      "THE END.\n"
     ]
    }
   ],
   "source": [
    "def badFun(n):\n",
    "    try:\n",
    "        return n / 0\n",
    "    except:\n",
    "        print(\"I did it again!\")\n",
    "        raise\n",
    "\n",
    "try:\n",
    "    badFun(0)\n",
    "except ArithmeticError:\n",
    "    print(\"I see!\")\n",
    "\n",
    "print(\"THE END.\")\n"
   ]
  },
  {
   "cell_type": "markdown",
   "metadata": {},
   "source": [
    "- You can use the `assert expression` command to evaluate the expression. If the expression evaluates to `True` or a non-numerical value or a empty string or any other value different than `None`, it wont do anything other than evaluate the expression.\n",
    "  - Otherwise, it will automatically and imediately raises an exception named `AssertionError`.\n",
    "- This is used to make sure that your code is producing the correct data and if you need to examine it. `assert` secures your code from providing invalid results and clearly shows the nature of the failure. \n",
    "- Assertions don't supersede exceptions or validate the data. They are supplements.\n"
   ]
  },
  {
   "cell_type": "code",
   "execution_count": 31,
   "metadata": {},
   "outputs": [
    {
     "name": "stdin",
     "output_type": "stream",
     "text": [
      "Enter a number:  -2\n"
     ]
    },
    {
     "ename": "AssertionError",
     "evalue": "",
     "output_type": "error",
     "traceback": [
      "\u001b[0;31m---------------------------------------------------------------------------\u001b[0m",
      "\u001b[0;31mAssertionError\u001b[0m                            Traceback (most recent call last)",
      "\u001b[0;32m<ipython-input-31-49fad9c6e200>\u001b[0m in \u001b[0;36m<module>\u001b[0;34m\u001b[0m\n\u001b[1;32m      2\u001b[0m \u001b[0;34m\u001b[0m\u001b[0m\n\u001b[1;32m      3\u001b[0m \u001b[0mx\u001b[0m \u001b[0;34m=\u001b[0m \u001b[0mfloat\u001b[0m\u001b[0;34m(\u001b[0m\u001b[0minput\u001b[0m\u001b[0;34m(\u001b[0m\u001b[0;34m\"Enter a number: \"\u001b[0m\u001b[0;34m)\u001b[0m\u001b[0;34m)\u001b[0m\u001b[0;34m\u001b[0m\u001b[0;34m\u001b[0m\u001b[0m\n\u001b[0;32m----> 4\u001b[0;31m \u001b[0;32massert\u001b[0m \u001b[0mx\u001b[0m \u001b[0;34m>=\u001b[0m \u001b[0;36m0.0\u001b[0m\u001b[0;34m\u001b[0m\u001b[0;34m\u001b[0m\u001b[0m\n\u001b[0m\u001b[1;32m      5\u001b[0m \u001b[0;34m\u001b[0m\u001b[0m\n\u001b[1;32m      6\u001b[0m \u001b[0mx\u001b[0m \u001b[0;34m=\u001b[0m \u001b[0mmath\u001b[0m\u001b[0;34m.\u001b[0m\u001b[0msqrt\u001b[0m\u001b[0;34m(\u001b[0m\u001b[0mx\u001b[0m\u001b[0;34m)\u001b[0m\u001b[0;34m\u001b[0m\u001b[0;34m\u001b[0m\u001b[0m\n",
      "\u001b[0;31mAssertionError\u001b[0m: "
     ]
    }
   ],
   "source": [
    "import math\n",
    "\n",
    "x = float(input(\"Enter a number: \"))\n",
    "assert x >= 0.0\n",
    "\n",
    "x = math.sqrt(x)\n",
    "\n",
    "print(x)"
   ]
  },
  {
   "cell_type": "code",
   "execution_count": 33,
   "metadata": {},
   "outputs": [
    {
     "ename": "SyntaxError",
     "evalue": "EOL while scanning string literal (<ipython-input-33-741d277fd6dd>, line 1)",
     "output_type": "error",
     "traceback": [
      "\u001b[0;36m  File \u001b[0;32m\"<ipython-input-33-741d277fd6dd>\"\u001b[0;36m, line \u001b[0;32m1\u001b[0m\n\u001b[0;31m    x='\\\\\\'\u001b[0m\n\u001b[0m           ^\u001b[0m\n\u001b[0;31mSyntaxError\u001b[0m\u001b[0;31m:\u001b[0m EOL while scanning string literal\n"
     ]
    }
   ],
   "source": [
    "x='\\\\\\'\n",
    "print(len(x))\n"
   ]
  }
 ],
 "metadata": {
  "kernelspec": {
   "display_name": "Python 3",
   "language": "python",
   "name": "python3"
  },
  "language_info": {
   "codemirror_mode": {
    "name": "ipython",
    "version": 3
   },
   "file_extension": ".py",
   "mimetype": "text/x-python",
   "name": "python",
   "nbconvert_exporter": "python",
   "pygments_lexer": "ipython3",
   "version": "3.8.3"
  }
 },
 "nbformat": 4,
 "nbformat_minor": 4
}
