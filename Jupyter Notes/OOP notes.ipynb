{
 "cells": [
  {
   "cell_type": "markdown",
   "metadata": {},
   "source": [
    "# Oject Orientated Programming (OOP) in Python #\n",
    "\n",
    "To create an object in Python, you first need to create a class for the object to be made from using the `class object_name:` call.\n",
    "\n",
    "The basic concept of OOP is **Class >> Object >> Instance**.\n",
    "\n",
    "> A **Class** is a template that can be used to construct an object. This defines the attributes and methods that will make up the object. \n",
    "\n",
    "> A **Object** is a constructed instance of a class. An object contains all of the **attributes** and **methods** that were defined by the **Class**. *Some object-oriented documentation uses the term __'instance'__ interchangably with __'object'__.*\n",
    "\n",
    "> A **instance** is a virtual copy of an object (but not a real copy) of an object.\n",
    "\n",
    "A blueprint for a house design is like a **class** description. All the houses built from that blueprint are **objects** of that class. A given house is an **instance**."
   ]
  },
  {
   "cell_type": "code",
   "execution_count": 10,
   "metadata": {},
   "outputs": [],
   "source": [
    "class object_name:\n",
    "    pass"
   ]
  },
  {
   "cell_type": "markdown",
   "metadata": {},
   "source": [
    "To make variables within the class `object_name` the delimiter `.` is used. For example `object.variable` means `variable` with `object`.\n",
    "\n",
    "> A variable that is part of a class is known as a **attribute**\n",
    "\n",
    "To create an attribute within a object from outside the class, `object_name.variable_name=value` is used."
   ]
  },
  {
   "cell_type": "code",
   "execution_count": 13,
   "metadata": {},
   "outputs": [
    {
     "name": "stdout",
     "output_type": "stream",
     "text": [
      "Ouput: value\n"
     ]
    }
   ],
   "source": [
    "object_name.variable_name='value'\n",
    "print('Ouput:',object_name.variable_name)"
   ]
  },
  {
   "cell_type": "markdown",
   "metadata": {},
   "source": [
    "Once the `class object_name` has been called, the `def __init__(self):` method is made. This is the first method that the object calls when made. In other words, it 'intialises' the object. \n",
    "\n",
    "This method can be named something else however its convention to call it `__init__`.\n",
    "\n",
    "The `__intit__` method has essentially all the functionality of regular funtions but with added abilities such as making **attributes** and setting their values.\n",
    "\n",
    ">A **method** is a function that is contained within a class and the objects that are constructed from the class. *Some object-orientated patterns use __'message'__ instead of __'method'__ to describe this concept.*\n",
    "\n",
    "> The `__init__` meathod is known as the **constructor**.\n",
    "\n",
    ">The `__del__` meathod is known as a **decontructor**."
   ]
  },
  {
   "cell_type": "code",
   "execution_count": 14,
   "metadata": {},
   "outputs": [],
   "source": [
    "class organism:\n",
    "    def __init__(self,genus,species,p,cn):\n",
    "        self.genus=genus\n",
    "        self.species=species\n",
    "        self.population=p\n",
    "        self.common_name=cn"
   ]
  },
  {
   "cell_type": "markdown",
   "metadata": {},
   "source": [
    "When the Class has been made, objects can be created by `instance name/variable name = objectname`. *the same way you make variables.*\n",
    "\n",
    "**Self** in the class simply refers to the instance that has been made (ie. itself).\n",
    "\n",
    "Below, self becomes the instance name (*'shark'*) when organism and the correct arguments have been entered. \n"
   ]
  },
  {
   "cell_type": "code",
   "execution_count": 9,
   "metadata": {},
   "outputs": [],
   "source": [
    "shark=organism('Carcharodon','carcharias',8000,'Great White Shark')\n",
    "fish=organism('Thunnus','thynnus',550000,'Bluefin Tuna')"
   ]
  },
  {
   "cell_type": "markdown",
   "metadata": {},
   "source": [
    "**^Here we made 2 instances from the class 'organism.'**\n",
    "\n",
    "If we wanted to manipulate the data within the objects we could do that outside the class."
   ]
  },
  {
   "cell_type": "code",
   "execution_count": 16,
   "metadata": {},
   "outputs": [
    {
     "name": "stdout",
     "output_type": "stream",
     "text": [
      "Carcharodon carcharias\n"
     ]
    }
   ],
   "source": [
    "latin_name=shark.genus+' '+shark.species\n",
    "print(latin_name)"
   ]
  },
  {
   "cell_type": "markdown",
   "metadata": {},
   "source": [
    "This would take up many lines and would take a long time to write. Its possible to add functionality to the class by adding other methods."
   ]
  },
  {
   "cell_type": "code",
   "execution_count": 29,
   "metadata": {},
   "outputs": [
    {
     "name": "stdout",
     "output_type": "stream",
     "text": [
      "Carcharodon carcharias = Great White Shark\n",
      "Thunnus thynnus = Bluefin Tuna\n"
     ]
    }
   ],
   "source": [
    "class organism:\n",
    "    def __init__(self,genus,species,p,cn):\n",
    "        self.genus=genus\n",
    "        self.species=species\n",
    "        self.population=p\n",
    "        self.common_name=cn\n",
    "    def latin_name(self):\n",
    "        return '{} {}'.format(self.genus,self.species)\n",
    "    \n",
    "shark=organism('Carcharodon','carcharias',8000,'Great White Shark')\n",
    "fish=organism('Thunnus','thynnus',550000,'Bluefin Tuna')\n",
    "    \n",
    "print(shark.latin_name(),'=',shark.common_name)\n",
    "print(fish.latin_name(),'=',fish.common_name)"
   ]
  },
  {
   "cell_type": "markdown",
   "metadata": {},
   "source": [
    "**^Notice how the meathod required parentheses to call the string and the attribute didn't. Its simliar to printing a return value of function and the value of variable (with the function being the meathod and the variable being the attribute.)**\n",
    "\n",
    "___"
   ]
  },
  {
   "cell_type": "markdown",
   "metadata": {},
   "source": [
    "## Class Variables\n",
    "\n",
    "You can set variables within the class. This variable can be call from outside the instance/object and inside. \n",
    "\n",
    "Here, `growth_rate` is a class variable since its defined before the `__init__` meathod. "
   ]
  },
  {
   "cell_type": "code",
   "execution_count": 39,
   "metadata": {},
   "outputs": [
    {
     "name": "stdout",
     "output_type": "stream",
     "text": [
      "shark population: 8000.0 growth rate: 1.5\n",
      "shark population: 10079.999999999998 growth rate: 1.5\n"
     ]
    }
   ],
   "source": [
    "class organism:\n",
    "    #the growth rate means the population would grow X amount of times per annum.\n",
    "    growth_rate=1.5\n",
    "    \n",
    "    def __init__(self,genus,species,p,pe,cn):\n",
    "        self.genus=genus\n",
    "        self.species=species\n",
    "        self.population=float(p)\n",
    "        self.pop_estimate=float(pe)\n",
    "        self.common_name=cn\n",
    "    def latin_name(self):\n",
    "        return '{} {}'.format(self.genus,self.species)\n",
    "    def future_population(self):\n",
    "        self.pop_percentage=float(self.population/self.pop_estimate)\n",
    "        self.population=self.pop_estimate*(self.pop_percentage*self.growth_rate*(1-self.pop_percentage))\n",
    "    \n",
    "    \n",
    "shark=organism('Carcharodon','carcharias',8000,50000,'Great White Shark')\n",
    "fish=organism('Thunnus','thynnus',550000,1000000,'Bluefin Tuna')\n",
    "\n",
    "#the future population method used a guessed population maxium and the logistical map to estimate the next\n",
    "#years population\n",
    "\n",
    "print('shark population:',shark.population,'growth rate:',shark.growth_rate)\n",
    "shark.future_population()\n",
    "print('shark population:',shark.population,'growth rate:',shark.growth_rate)"
   ]
  },
  {
   "cell_type": "markdown",
   "metadata": {},
   "source": [
    "The equation used to estimate next years population is:\n",
    "\n",
    "$$ X_{n+1}=rX_{n+1}(1-X_{n+1}) $$\n",
    "\n",
    "$ X_{n} $=population percentage of theorectical maxium  \n",
    "$ r $=Growth rate of population per year\n",
    "\n",
    "You can change class variables from outside the class aswell. This can be object/instance specific or class wide. "
   ]
  },
  {
   "cell_type": "code",
   "execution_count": 40,
   "metadata": {},
   "outputs": [
    {
     "name": "stdout",
     "output_type": "stream",
     "text": [
      "shark population: 8000.0 growth rate: 1.5\n",
      "shark population: 17472.0 growth rate: 2.6\n"
     ]
    }
   ],
   "source": [
    "shark=organism('Carcharodon','carcharias',8000,50000,'Great White Shark')\n",
    "fish=organism('Thunnus','thynnus',550000,1000000,'Bluefin Tuna')\n",
    "\n",
    "print('shark population:',shark.population,'growth rate:',shark.growth_rate)\n",
    "shark.growth_rate=2.6\n",
    "shark.future_population()\n",
    "print('shark population:',shark.population,'growth rate:',shark.growth_rate)"
   ]
  },
  {
   "cell_type": "markdown",
   "metadata": {},
   "source": [
    "---\n",
    "\n",
    "## Class Methods & Static Meathods\n",
    "\n",
    "> - **Class methods** are bound to the class rather than the object for that class.\n",
    "> - These have access to the state of the class as it takes a class parameter `cls` that points to the class and not the object instance and can be used as an *alternative constructor*. \n",
    "> - It can modify the state of the class which would apply accross all instances. ie, change class variables.\n",
    "\n",
    "> - **Static methods** are bound to the class rather than the object instance for that class.\n",
    "> - These behave rather  like regular functions in Python.\n",
    "\n",
    "`@classmeathods`/`@static methods` is called then the methods is defined a line below.\n",
    "\n"
   ]
  },
  {
   "cell_type": "code",
   "execution_count": 43,
   "metadata": {},
   "outputs": [
    {
     "name": "stdout",
     "output_type": "stream",
     "text": [
      "1st growth_rate: 1.5 1.5\n",
      "2nd growth_rate: 2.2 2.2\n",
      "Carcharodon carcharias\n"
     ]
    }
   ],
   "source": [
    "class organism:\n",
    "    \n",
    "    growth_rate=1.5\n",
    "    \n",
    "    def __init__(self,genus,species,p,pe,cn):\n",
    "        self.genus=genus\n",
    "        self.species=species\n",
    "        self.population=float(p)\n",
    "        self.pop_estimate=float(pe)\n",
    "        self.common_name=cn\n",
    "    def latin_name(self):\n",
    "        return '{} {}'.format(self.genus,self.species)\n",
    "    def future_population(self):\n",
    "        self.pop_percentage=float(self.population/self.pop_estimate)\n",
    "        self.population=self.pop_estimate*(self.pop_percentage*self.growth_rate*(1-self.pop_percentage))\n",
    "    @classmethod\n",
    "    def set_growth_rate(cls,rate):\n",
    "        cls.growth_rate=rate\n",
    "    @classmethod\n",
    "    def from_string(cls,string):\n",
    "        genus,species,p,pe,cn=string.split('-')\n",
    "        return cls(genus,species,p,pe,cn)\n",
    "    \n",
    "shark=organism('Carcharodon','carcharias',8000,50000,'Great White Shark')\n",
    "fish=organism('Thunnus','thynnus',550000,1000000,'Bluefin Tuna')\n",
    "\n",
    "print('1st growth_rate:',shark.growth_rate,fish.growth_rate)\n",
    "organism.set_growth_rate(2.2)\n",
    "print('2nd growth_rate:',shark.growth_rate,fish.growth_rate)\n",
    "\n",
    "string_shark=organism.from_string('Carcharodon-carcharias-8000-50000-Great White Shark')\n",
    "\n",
    "print(string_shark.latin_name())"
   ]
  },
  {
   "cell_type": "markdown",
   "metadata": {},
   "source": [
    "**^In this example the `set_growth_method()` is the same as calling `organism.growth_rate=2.2`.**\n",
    "\n",
    "**^The `from_string()` method is a alternative constructor of the object if the arguments being entered haved to be parsed for '-'.**\n",
    "\n"
   ]
  },
  {
   "cell_type": "code",
   "execution_count": 3,
   "metadata": {},
   "outputs": [
    {
     "name": "stdout",
     "output_type": "stream",
     "text": [
      "True\n"
     ]
    }
   ],
   "source": [
    "from datetime import date\n",
    "\n",
    "class organism:\n",
    "    \n",
    "    growth_rate=1.5\n",
    "    \n",
    "    def __init__(self,genus,species,p,pe,cn):\n",
    "        self.genus=genus\n",
    "        self.species=species\n",
    "        self.population=float(p)\n",
    "        self.pop_estimate=float(pe)\n",
    "        self.common_name=cn\n",
    "    def latin_name(self):\n",
    "        return '{} {}'.format(self.genus,self.species)\n",
    "    def future_population(self):\n",
    "        self.pop_percentage=float(self.population/self.pop_estimate)\n",
    "        self.population=self.pop_estimate*(self.pop_percentage*self.growth_rate*(1-self.pop_percentage))\n",
    "    @classmethod\n",
    "    def set_growth_rate(cls,rate):\n",
    "        cls.growth_rate=rate\n",
    "    @classmethod\n",
    "    def from_string(cls,string):\n",
    "        genus,species,p,pe,cn=string.split('-')\n",
    "        return cls(genus,species,p,pe,cn)\n",
    "    @staticmethod\n",
    "    def is_work_day(day):\n",
    "        if day.weekday==5 or day.weekday==6:\n",
    "            return False\n",
    "        else: \n",
    "            return True\n",
    "        \n",
    "shark=organism('Carcharodon','carcharias',8000,50000,'Great White Shark')\n",
    "fish=organism('Thunnus','thynnus',550000,1000000,'Bluefin Tuna')\n",
    "\n",
    "print(organism.is_work_day(date.today()))"
   ]
  },
  {
   "cell_type": "markdown",
   "metadata": {},
   "source": [
    "**^this static method simply shows whether today is a workday or not (Monday-Friday). It can be call striaight from the class.**\n",
    "\n",
    "---\n",
    "## Sub-Classes and Inheritance\n",
    "\n",
    "Sub-classes will inherit its `__init__` method from its parent class. ie all the attributes it sets.\n",
    "\n",
    "> The chain of inheritance is known as the **method resolution order**\n",
    "\n",
    "The **method resolution order** can be checked with the `help(object)` call. This will bring up information relating to the parent classes and methods in the classes."
   ]
  },
  {
   "cell_type": "code",
   "execution_count": 4,
   "metadata": {},
   "outputs": [
    {
     "name": "stdout",
     "output_type": "stream",
     "text": [
      "phytoplankton\n",
      "Help on primary_producer in module __main__ object:\n",
      "\n",
      "class primary_producer(organism)\n",
      " |  primary_producer(genus, species, p, pe, cn)\n",
      " |  \n",
      " |  Method resolution order:\n",
      " |      primary_producer\n",
      " |      organism\n",
      " |      builtins.object\n",
      " |  \n",
      " |  Methods inherited from organism:\n",
      " |  \n",
      " |  __init__(self, genus, species, p, pe, cn)\n",
      " |      Initialize self.  See help(type(self)) for accurate signature.\n",
      " |  \n",
      " |  future_population(self)\n",
      " |  \n",
      " |  latin_name(self)\n",
      " |  \n",
      " |  ----------------------------------------------------------------------\n",
      " |  Class methods inherited from organism:\n",
      " |  \n",
      " |  from_string(string) from builtins.type\n",
      " |  \n",
      " |  set_growth_rate(rate) from builtins.type\n",
      " |  \n",
      " |  ----------------------------------------------------------------------\n",
      " |  Static methods inherited from organism:\n",
      " |  \n",
      " |  is_work_day(day)\n",
      " |  \n",
      " |  ----------------------------------------------------------------------\n",
      " |  Data descriptors inherited from organism:\n",
      " |  \n",
      " |  __dict__\n",
      " |      dictionary for instance variables (if defined)\n",
      " |  \n",
      " |  __weakref__\n",
      " |      list of weak references to the object (if defined)\n",
      " |  \n",
      " |  ----------------------------------------------------------------------\n",
      " |  Data and other attributes inherited from organism:\n",
      " |  \n",
      " |  growth_rate = 1.5\n",
      "\n",
      "None\n"
     ]
    }
   ],
   "source": [
    "class primary_producer(organism):\n",
    "    pass\n",
    "        \n",
    "plankton=primary_producer('Emiliania','huxleyi',1000000,1000001,'phytoplankton')\n",
    "\n",
    "print(plankton.common_name)\n",
    "print(help(plankton))"
   ]
  },
  {
   "cell_type": "markdown",
   "metadata": {},
   "source": [
    "Changing the class variables within the sub-class does not change the variables value in the parent class or their instances."
   ]
  },
  {
   "cell_type": "code",
   "execution_count": 5,
   "metadata": {},
   "outputs": [
    {
     "name": "stdout",
     "output_type": "stream",
     "text": [
      "1.5\n",
      "2.2\n"
     ]
    }
   ],
   "source": [
    "class primary_producer(organism):\n",
    "    growth_rate=2.2\n",
    "\n",
    "shark=organism('Carcharodon','carcharias',8000,50000,'Great White Shark')\n",
    "plankton=primary_producer('Emiliania','huxleyi',1000000,1000001,'phytoplankton')\n",
    "\n",
    "print(shark.growth_rate)\n",
    "print(plankton.growth_rate)"
   ]
  },
  {
   "cell_type": "markdown",
   "metadata": {},
   "source": [
    "If we need to initiate the sub-class with the other arguments as our parent class, then we have to use the `_init__` method in the sub-class. If we need the sub-class to inherit any attributes from the parent class, `super().__init(parent attributes)` is used in the sub-classes `__init__` method.\n",
    "\n",
    "This means the sub-class has to take all of the parent class atrributes and methods and allows us to reuse the code (saving space)."
   ]
  },
  {
   "cell_type": "code",
   "execution_count": 6,
   "metadata": {},
   "outputs": [
    {
     "name": "stdout",
     "output_type": "stream",
     "text": [
      "Emiliania huxleyi\n",
      "5000\n"
     ]
    }
   ],
   "source": [
    "class primary_producer(organism):\n",
    "    growth_rate=2.2\n",
    "    def __init__(self,genus,species,p,pe,cn,bm):\n",
    "        super().__init__(genus,species,p,pe,cn)\n",
    "        self.biomass=bm\n",
    "\n",
    "plankton=primary_producer('Emiliania','huxleyi',1000000,1000001,'phytoplankton',5000)\n",
    "\n",
    "print(plankton.latin_name())\n",
    "print(plankton.biomass)\n",
    "        "
   ]
  },
  {
   "cell_type": "markdown",
   "metadata": {},
   "source": [
    "`isinstance(instance,class)` will show whether a instance is from a class. So `plankton` is an instance of the class `organism` however it wouldnt be an instance of another sub-class of organism. This will return True for classes that the instance it inherits from.\n",
    "\n",
    "`issubclass(sub-class,class)` also does this but shows whether a where in the **method resoloution order** a class is."
   ]
  },
  {
   "cell_type": "code",
   "execution_count": 8,
   "metadata": {},
   "outputs": [
    {
     "name": "stdout",
     "output_type": "stream",
     "text": [
      "True\n",
      "True\n"
     ]
    }
   ],
   "source": [
    "print(isinstance(plankton,organism))\n",
    "print(issubclass(primary_producer,organism))"
   ]
  },
  {
   "cell_type": "markdown",
   "metadata": {},
   "source": [
    "---\n",
    "## Special (Magic/Dunder) Methods\n",
    "\n",
    "These are methods with double underscores before and after them eg. `__init__(self)`. \n",
    "\n",
    "Other common dunder methods are `__repr__(self)` and `__str__(self)`. \n",
    "\n",
    "> `__repr__(self)` is used for debugging and logging etc. Its an unambiguious representation of the object. If the object is printed and theres no `__str__(self)` method then this is printed. It should print something that could be copy printed back into the code to make the same object.\n",
    "\n",
    "> `__str__(self)` is used to print a readable version of the object. Its dispalyed to end users (instead of objects location in memory).\n",
    "\n",
    "These methods can be accessed for repr(object), str(object) calls. \n",
    "\n",
    "Other duner methods such as `__add__(self)` just tell python how to add two objects. Else am error message appears.\n",
    "\n",
    "Adding a `__property` makes the attribute private. Thus it can only be accessed from within the class."
   ]
  },
  {
   "cell_type": "code",
   "execution_count": 10,
   "metadata": {},
   "outputs": [
    {
     "name": "stdout",
     "output_type": "stream",
     "text": [
      "organism('Carcharodon','carcharias',8000.0,50000.0,'Great White Shark')\n",
      "Carcharodon carcharias\n",
      "558000.0\n",
      "22\n"
     ]
    }
   ],
   "source": [
    "class organism:\n",
    "    \n",
    "    growth_rate=1.5\n",
    "    \n",
    "    def __init__(self,genus,species,p,pe,cn):\n",
    "        self.genus=genus\n",
    "        self.species=species\n",
    "        self.population=float(p)\n",
    "        self.pop_estimate=float(pe)\n",
    "        self.common_name=cn\n",
    "    def latin_name(self):\n",
    "        return '{} {}'.format(self.genus,self.species)\n",
    "    def future_population(self):\n",
    "        self.pop_percentage=float(self.population/self.pop_estimate)\n",
    "        self.population=self.pop_estimate*(self.pop_percentage*self.growth_rate*(1-self.pop_percentage))\n",
    "    def __repr__(self):\n",
    "        return \"organism('{}','{}',{},{},'{}')\".format(self.genus,self.species,self.population,self.pop_estimate,self.common_name)\n",
    "    def __str__(self):\n",
    "        return self.latin_name()\n",
    "    def __add__(self,other):\n",
    "        return self.population+other.population\n",
    "    def __len__(self):\n",
    "        return len(self.latin_name())\n",
    "    \n",
    "shark=organism('Carcharodon','carcharias',8000,50000,'Great White Shark')\n",
    "fish=organism('Thunnus','thynnus',550000,1000000,'Bluefin Tuna')\n",
    "\n",
    "print(repr(shark))\n",
    "print(str(shark))\n",
    "print(shark+fish)\n",
    "print(len(shark))"
   ]
  },
  {
   "cell_type": "markdown",
   "metadata": {},
   "source": [
    "---\n",
    "## Property Decorators - Getters, Setters and Deleters\n",
    "\n",
    "These give class attributes getter, setter and deleter functionality.\n",
    "\n",
    "> Getter properties allow you to access methods like a attribute eg `shark.latin_name`. It also means that if the attributes get altered outside the class the methods get updated aswell. These are called by the `@property`\n",
    "\n",
    "> The `@propertyname.setter` decorator creates a setter method that if an attribute is to be set through the method.\n",
    "\n",
    "> The `@propertyname.deleter` are properties that are run when you need to delete an attribute from the class.\n"
   ]
  },
  {
   "cell_type": "code",
   "execution_count": 6,
   "metadata": {},
   "outputs": [
    {
     "name": "stdout",
     "output_type": "stream",
     "text": [
      "1 wrong name carcharias\n",
      "2 new name\n",
      "deleted latin name!\n",
      "3 None None\n"
     ]
    }
   ],
   "source": [
    "class organism:\n",
    "    \n",
    "    def __init__(self,genus,species,p,pe,cn):\n",
    "        self.genus=genus\n",
    "        self.species=species\n",
    "        self.population=float(p)\n",
    "        self.pop_estimate=float(pe)\n",
    "        self.common_name=cn\n",
    "    @property\n",
    "    def latin_name(self):\n",
    "        return '{} {}'.format(self.genus,self.species)\n",
    "    \n",
    "    @latin_name.setter\n",
    "    def latin_name(self,name):\n",
    "        genus,species=name.split(' ')\n",
    "        self.genus=genus\n",
    "        self.species=species\n",
    "    \n",
    "    @latin_name.deleter\n",
    "    def latin_name(self):\n",
    "        print('deleted latin name!')\n",
    "        self.genus=None\n",
    "        self.species=None\n",
    "    \n",
    "shark=organism('Carcharodon','carcharias',8000,50000,'Great White Shark')\n",
    "\n",
    "#can now access the return value of latin_name without parentheses like an attribute\n",
    "shark.genus='wrong name'\n",
    "print(1,shark.latin_name)\n",
    "\n",
    "#can now assign different latin names through this method \n",
    "shark.latin_name='new name'\n",
    "print(2,shark.latin_name)\n",
    "\n",
    "#can now delete the latin name of the object\n",
    "del shark.latin_name\n",
    "print(3,shark.latin_name)"
   ]
  },
  {
   "cell_type": "code",
   "execution_count": null,
   "metadata": {},
   "outputs": [],
   "source": []
  }
 ],
 "metadata": {
  "kernelspec": {
   "display_name": "Python 3",
   "language": "python",
   "name": "python3"
  },
  "language_info": {
   "codemirror_mode": {
    "name": "ipython",
    "version": 3
   },
   "file_extension": ".py",
   "mimetype": "text/x-python",
   "name": "python",
   "nbconvert_exporter": "python",
   "pygments_lexer": "ipython3",
   "version": "3.8.3"
  }
 },
 "nbformat": 4,
 "nbformat_minor": 4
}
